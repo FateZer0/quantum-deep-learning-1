{
 "cells": [
  {
   "cell_type": "code",
   "execution_count": 7,
   "metadata": {},
   "outputs": [],
   "source": [
    "import statistics\n",
    "\n",
    "def calculate_stats(cross_validation_results):\n",
    "    train_losses = [v['train_loss'] for (k, v) in cross_validation_results.items()]\n",
    "    val_losses = [v['val_loss'] for (k, v) in cross_validation_results.items()]\n",
    "    train_accs = [v['train_acc'] for (k, v) in cross_validation_results.items()]\n",
    "    val_accs = [v['val_acc'] for (k, v) in cross_validation_results.items()]\n",
    "    \n",
    "    return {\n",
    "#         'mean_train_loss': (sum(train_losses) / len(train_losses)),\n",
    "#         'mean_val_loss': (sum(val_losses) / len(val_losses)),\n",
    "        'mean_train_acc': (sum(train_accs) / len(train_accs)),\n",
    "        'mean_val_acc': (sum(val_accs) / len(val_accs)),\n",
    "#         'std_train_loss': statistics.stdev(train_losses),\n",
    "#         'std_val_loss': statistics.stdev(val_losses),\n",
    "        'std_train_acc': statistics.stdev(train_accs),\n",
    "        'std_val_acc': statistics.stdev(val_accs)\n",
    "    }"
   ]
  },
  {
   "cell_type": "code",
   "execution_count": 14,
   "metadata": {},
   "outputs": [],
   "source": [
    "stats = {\n",
    "    0: {'train_loss': 2.6394549472464455, 'val_loss': 2.6189074685838487, 'train_acc': 62.15277777777778, 'val_acc': 64.88888888888889}, \n",
    "#     1: {'train_loss': 2.7352504428890017, 'val_loss': 2.7358015741242303, 'train_acc': 16.875, 'val_acc': 16.666666666666668}, \n",
    "    2: {'train_loss': 2.6682525103290877, 'val_loss': 2.6590018463134766, 'train_acc': 47.013888888888886, 'val_acc': 48.666666666666664}, \n",
    "#     3: {'train_loss': 2.6256444838311936, 'val_loss': 2.593257461918725, 'train_acc': 72.08333333333333, 'val_acc': 85.0}, \n",
    "    4: {'train_loss': 2.6432564467191697, 'val_loss': 2.628296507199605, 'train_acc': 63.333333333333336, 'val_acc': 64.88888888888889}\n",
    "}"
   ]
  },
  {
   "cell_type": "code",
   "execution_count": 15,
   "metadata": {},
   "outputs": [
    {
     "name": "stdout",
     "output_type": "stream",
     "text": [
      "{'mean_train_acc': 57.5, 'mean_val_acc': 59.481481481481474, 'std_train_acc': 9.100402327966838, 'std_val_acc': 9.365904366853929}\n"
     ]
    }
   ],
   "source": [
    "calculated_stats = calculate_stats(stats)\n",
    "\n",
    "print(calculated_stats)"
   ]
  },
  {
   "cell_type": "code",
   "execution_count": null,
   "metadata": {},
   "outputs": [],
   "source": []
  }
 ],
 "metadata": {
  "kernelspec": {
   "display_name": "Python 3",
   "language": "python",
   "name": "python3"
  },
  "language_info": {
   "codemirror_mode": {
    "name": "ipython",
    "version": 3
   },
   "file_extension": ".py",
   "mimetype": "text/x-python",
   "name": "python",
   "nbconvert_exporter": "python",
   "pygments_lexer": "ipython3",
   "version": "3.8.6"
  }
 },
 "nbformat": 4,
 "nbformat_minor": 4
}
